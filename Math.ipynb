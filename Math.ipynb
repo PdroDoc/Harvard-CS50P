{
  "nbformat": 4,
  "nbformat_minor": 0,
  "metadata": {
    "colab": {
      "provenance": [],
      "authorship_tag": "ABX9TyP2XZZ3Le+yvAjx0ngfQeNr"
    },
    "kernelspec": {
      "name": "python3",
      "display_name": "Python 3"
    },
    "language_info": {
      "name": "python"
    }
  },
  "cells": [
    {
      "cell_type": "code",
      "execution_count": null,
      "metadata": {
        "id": "oUmVNwhrX08v"
      },
      "outputs": [],
      "source": []
    }
  ]
}